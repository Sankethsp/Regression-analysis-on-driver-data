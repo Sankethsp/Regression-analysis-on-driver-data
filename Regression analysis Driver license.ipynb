{
 "cells": [
  {
   "cell_type": "markdown",
   "id": "d27010cf",
   "metadata": {},
   "source": [
    "# Regression Analysis of Licensed Driver data over Time Using R"
   ]
  },
  {
   "cell_type": "markdown",
   "id": "16b6fa4f",
   "metadata": {},
   "source": [
    "### Importing library to read excel file "
   ]
  },
  {
   "cell_type": "code",
   "execution_count": 1,
   "id": "0cf92ea3",
   "metadata": {},
   "outputs": [],
   "source": [
    "library(readxl)"
   ]
  },
  {
   "cell_type": "markdown",
   "id": "9ef50f0a",
   "metadata": {},
   "source": [
    "### Reading dataset"
   ]
  },
  {
   "cell_type": "code",
   "execution_count": 2,
   "id": "8d7cb77f",
   "metadata": {},
   "outputs": [],
   "source": [
    "LicDrivers <- read_excel(\"D:/datasets/LicensedDrivers.xlsx\")"
   ]
  },
  {
   "cell_type": "code",
   "execution_count": 3,
   "id": "5db93156",
   "metadata": {},
   "outputs": [
    {
     "name": "stdout",
     "output_type": "stream",
     "text": [
      "tibble [52 x 2] (S3: tbl_df/tbl/data.frame)\n",
      " $ Year           : num [1:52] 1960 1961 1962 1963 1964 ...\n",
      " $ LicensedDrivers: num [1:52] 87 89 91 94 95 99 101 103 105 108 ...\n"
     ]
    }
   ],
   "source": [
    "str(LicDrivers)\n",
    "LModel = lm(LicensedDrivers~Year,data = LicDrivers)"
   ]
  },
  {
   "cell_type": "markdown",
   "id": "2c882ac2",
   "metadata": {},
   "source": [
    "### Plotting graph Licenced drivers vs Year"
   ]
  },
  {
   "cell_type": "code",
   "execution_count": 4,
   "id": "a240f35f",
   "metadata": {},
   "outputs": [
    {
     "data": {
      "image/png": "[encoded data removed]",
      "text/plain": [
       "plot without title"
      ]
     },
     "metadata": {
      "image/png": {
       "height": 420,
       "width": 420
      }
     },
     "output_type": "display_data"
    }
   ],
   "source": [
    "plot(LicDrivers$Year,LicDrivers$LicensedDrivers,cex = 1.3,lwd =10) #lwd - width of dot, cex- size of dot"
   ]
  },
  {
   "cell_type": "markdown",
   "id": "0c87697f",
   "metadata": {},
   "source": [
    "### Adding stright lines to the graph "
   ]
  },
  {
   "cell_type": "code",
   "execution_count": 5,
   "id": "8ae85b0c",
   "metadata": {},
   "outputs": [
    {
     "ename": "ERROR",
     "evalue": "Error in int_abline(a = a, b = b, h = h, v = v, untf = untf, ...): plot.new has not been called yet\n",
     "output_type": "error",
     "traceback": [
      "Error in int_abline(a = a, b = b, h = h, v = v, untf = untf, ...): plot.new has not been called yet\nTraceback:\n",
      "1. abline(LModel, lwd = 5)",
      "2. int_abline(a = a, b = b, h = h, v = v, untf = untf, ...)"
     ]
    }
   ],
   "source": [
    "abline(LModel,lwd=5) # abline() function is used to add stright lines to the graph\n"
   ]
  },
  {
   "cell_type": "markdown",
   "id": "9d0ffbb6",
   "metadata": {},
   "source": [
    "### Statistical summary"
   ]
  },
  {
   "cell_type": "code",
   "execution_count": 6,
   "id": "7f50ccbf",
   "metadata": {},
   "outputs": [
    {
     "data": {
      "text/plain": [
       "\n",
       "Call:\n",
       "lm(formula = LicensedDrivers ~ Year, data = LicDrivers)\n",
       "\n",
       "Residuals:\n",
       "    Min      1Q  Median      3Q     Max \n",
       "-5.9601 -2.8996 -0.3038  3.0582  6.5240 \n",
       "\n",
       "Coefficients:\n",
       "              Estimate Std. Error t value Pr(>|t|)    \n",
       "(Intercept) -4.844e+03  6.445e+01  -75.17   <2e-16 ***\n",
       "Year         2.517e+00  3.246e-02   77.56   <2e-16 ***\n",
       "---\n",
       "Signif. codes:  0 '***' 0.001 '**' 0.01 '*' 0.05 '.' 0.1 ' ' 1\n",
       "\n",
       "Residual standard error: 3.513 on 50 degrees of freedom\n",
       "Multiple R-squared:  0.9918,\tAdjusted R-squared:  0.9916 \n",
       "F-statistic:  6015 on 1 and 50 DF,  p-value: < 2.2e-16\n"
      ]
     },
     "metadata": {},
     "output_type": "display_data"
    }
   ],
   "source": [
    "summary(LModel) #summary of the data in statistical terms"
   ]
  },
  {
   "cell_type": "code",
   "execution_count": 8,
   "id": "869ed826",
   "metadata": {},
   "outputs": [
    {
     "data": {
      "text/html": [
       "<style>\n",
       ".list-inline {list-style: none; margin:0; padding: 0}\n",
       ".list-inline>li {display: inline-block}\n",
       ".list-inline>li:not(:last-child)::after {content: \"\\00b7\"; padding: 0 .5ex}\n",
       "</style>\n",
       "<ol class=list-inline><li>'coefficients'</li><li>'residuals'</li><li>'effects'</li><li>'rank'</li><li>'fitted.values'</li><li>'assign'</li><li>'qr'</li><li>'df.residual'</li><li>'xlevels'</li><li>'call'</li><li>'terms'</li><li>'model'</li></ol>\n"
      ],
      "text/latex": [
       "\\begin{enumerate*}\n",
       "\\item 'coefficients'\n",
       "\\item 'residuals'\n",
       "\\item 'effects'\n",
       "\\item 'rank'\n",
       "\\item 'fitted.values'\n",
       "\\item 'assign'\n",
       "\\item 'qr'\n",
       "\\item 'df.residual'\n",
       "\\item 'xlevels'\n",
       "\\item 'call'\n",
       "\\item 'terms'\n",
       "\\item 'model'\n",
       "\\end{enumerate*}\n"
      ],
      "text/markdown": [
       "1. 'coefficients'\n",
       "2. 'residuals'\n",
       "3. 'effects'\n",
       "4. 'rank'\n",
       "5. 'fitted.values'\n",
       "6. 'assign'\n",
       "7. 'qr'\n",
       "8. 'df.residual'\n",
       "9. 'xlevels'\n",
       "10. 'call'\n",
       "11. 'terms'\n",
       "12. 'model'\n",
       "\n",
       "\n"
      ],
      "text/plain": [
       " [1] \"coefficients\"  \"residuals\"     \"effects\"       \"rank\"         \n",
       " [5] \"fitted.values\" \"assign\"        \"qr\"            \"df.residual\"  \n",
       " [9] \"xlevels\"       \"call\"          \"terms\"         \"model\"        "
      ]
     },
     "metadata": {},
     "output_type": "display_data"
    }
   ],
   "source": [
    "names(LModel) #setting the name of objects"
   ]
  },
  {
   "cell_type": "code",
   "execution_count": 9,
   "id": "89a0492d",
   "metadata": {},
   "outputs": [
    {
     "data": {
      "text/html": [
       "<style>\n",
       ".dl-inline {width: auto; margin:0; padding: 0}\n",
       ".dl-inline>dt, .dl-inline>dd {float: none; width: auto; display: inline-block}\n",
       ".dl-inline>dt::after {content: \":\\0020\"; padding-right: .5ex}\n",
       ".dl-inline>dt:not(:first-of-type) {padding-left: .5ex}\n",
       "</style><dl class=dl-inline><dt>(Intercept)</dt><dd>-4844.30705199351</dd><dt>Year</dt><dd>2.51728848288227</dd></dl>\n"
      ],
      "text/latex": [
       "\\begin{description*}\n",
       "\\item[(Intercept)] -4844.30705199351\n",
       "\\item[Year] 2.51728848288227\n",
       "\\end{description*}\n"
      ],
      "text/markdown": [
       "(Intercept)\n",
       ":   -4844.30705199351Year\n",
       ":   2.51728848288227\n",
       "\n"
      ],
      "text/plain": [
       " (Intercept)         Year \n",
       "-4844.307052     2.517288 "
      ]
     },
     "metadata": {},
     "output_type": "display_data"
    }
   ],
   "source": [
    "LModel$coefficients"
   ]
  },
  {
   "cell_type": "code",
   "execution_count": 10,
   "id": "08dca47d",
   "metadata": {},
   "outputs": [
    {
     "data": {
      "text/html": [
       "<style>\n",
       ".dl-inline {width: auto; margin:0; padding: 0}\n",
       ".dl-inline>dt, .dl-inline>dd {float: none; width: auto; display: inline-block}\n",
       ".dl-inline>dt::after {content: \":\\0020\"; padding-right: .5ex}\n",
       ".dl-inline>dt:not(:first-of-type) {padding-left: .5ex}\n",
       "</style><dl class=dl-inline><dt>1</dt><dd>-2.57837445573289</dd><dt>2</dt><dd>-3.09566293861513</dd><dt>3</dt><dd>-3.61295142149749</dd><dt>4</dt><dd>-3.13023990437976</dd><dt>5</dt><dd>-4.64752838726202</dd><dt>6</dt><dd>-3.1648168701443</dd><dt>7</dt><dd>-3.68210535302656</dd><dt>8</dt><dd>-4.19939383590882</dd><dt>9</dt><dd>-4.7166823187911</dd><dt>10</dt><dd>-4.23397080167337</dd><dt>11</dt><dd>-2.75125928455563</dd><dt>12</dt><dd>-3.2685477674379</dd><dt>13</dt><dd>-1.78583625032016</dd><dt>14</dt><dd>-0.30312473320243</dd><dt>15</dt><dd>0.179586783915299</dd><dt>16</dt><dd>2.66229830103303</dd><dt>17</dt><dd>4.14500981815076</dd><dt>18</dt><dd>5.6277213352685</dd><dt>19</dt><dd>6.11043285238623</dd><dt>20</dt><dd>5.59314436950397</dd><dt>21</dt><dd>5.0758558866217</dd><dt>22</dt><dd>4.55856740373943</dd><dt>23</dt><dd>5.04127892085716</dd><dt>24</dt><dd>6.5239904379749</dd><dt>25</dt><dd>5.00670195509263</dd><dt>26</dt><dd>4.48941347221036</dd><dt>27</dt><dd>3.97212498932809</dd><dt>28</dt><dd>3.45483650644583</dd><dt>29</dt><dd>2.93754802356356</dd><dt>30</dt><dd>3.42025954068129</dd><dt>31</dt><dd>1.90297105779902</dd><dt>32</dt><dd>1.38568257491676</dd><dt>33</dt><dd>2.86839409203449</dd><dt>34</dt><dd>0.351105609152225</dd><dt>35</dt><dd>-0.166182873730045</dd><dt>36</dt><dd>-0.683471356612316</dd><dt>37</dt><dd>-0.200759839494576</dd><dt>38</dt><dd>0.28195167762315</dd><dt>39</dt><dd>-0.23533680525911</dd><dt>40</dt><dd>-0.752625288141377</dd><dt>41</dt><dd>0.730086228976349</dd><dt>42</dt><dd>-1.78720225390591</dd><dt>43</dt><dd>-0.304490736788178</dd><dt>44</dt><dd>-1.82177921967045</dd><dt>45</dt><dd>-1.33906770255271</dd><dt>46</dt><dd>-1.85635618543499</dd><dt>47</dt><dd>-2.37364466831725</dd><dt>48</dt><dd>-2.89093315119951</dd><dt>49</dt><dd>-2.40822163408179</dd><dt>50</dt><dd>-2.92551011696405</dd><dt>51</dt><dd>-5.44279859984632</dd><dt>52</dt><dd>-5.96008708272857</dd></dl>\n"
      ],
      "text/latex": [
       "\\begin{description*}\n",
       "\\item[1] -2.57837445573289\n",
       "\\item[2] -3.09566293861513\n",
       "\\item[3] -3.61295142149749\n",
       "\\item[4] -3.13023990437976\n",
       "\\item[5] -4.64752838726202\n",
       "\\item[6] -3.1648168701443\n",
       "\\item[7] -3.68210535302656\n",
       "\\item[8] -4.19939383590882\n",
       "\\item[9] -4.7166823187911\n",
       "\\item[10] -4.23397080167337\n",
       "\\item[11] -2.75125928455563\n",
       "\\item[12] -3.2685477674379\n",
       "\\item[13] -1.78583625032016\n",
       "\\item[14] -0.30312473320243\n",
       "\\item[15] 0.179586783915299\n",
       "\\item[16] 2.66229830103303\n",
       "\\item[17] 4.14500981815076\n",
       "\\item[18] 5.6277213352685\n",
       "\\item[19] 6.11043285238623\n",
       "\\item[20] 5.59314436950397\n",
       "\\item[21] 5.0758558866217\n",
       "\\item[22] 4.55856740373943\n",
       "\\item[23] 5.04127892085716\n",
       "\\item[24] 6.5239904379749\n",
       "\\item[25] 5.00670195509263\n",
       "\\item[26] 4.48941347221036\n",
       "\\item[27] 3.97212498932809\n",
       "\\item[28] 3.45483650644583\n",
       "\\item[29] 2.93754802356356\n",
       "\\item[30] 3.42025954068129\n",
       "\\item[31] 1.90297105779902\n",
       "\\item[32] 1.38568257491676\n",
       "\\item[33] 2.86839409203449\n",
       "\\item[34] 0.351105609152225\n",
       "\\item[35] -0.166182873730045\n",
       "\\item[36] -0.683471356612316\n",
       "\\item[37] -0.200759839494576\n",
       "\\item[38] 0.28195167762315\n",
       "\\item[39] -0.23533680525911\n",
       "\\item[40] -0.752625288141377\n",
       "\\item[41] 0.730086228976349\n",
       "\\item[42] -1.78720225390591\n",
       "\\item[43] -0.304490736788178\n",
       "\\item[44] -1.82177921967045\n",
       "\\item[45] -1.33906770255271\n",
       "\\item[46] -1.85635618543499\n",
       "\\item[47] -2.37364466831725\n",
       "\\item[48] -2.89093315119951\n",
       "\\item[49] -2.40822163408179\n",
       "\\item[50] -2.92551011696405\n",
       "\\item[51] -5.44279859984632\n",
       "\\item[52] -5.96008708272857\n",
       "\\end{description*}\n"
      ],
      "text/markdown": [
       "1\n",
       ":   -2.578374455732892\n",
       ":   -3.095662938615133\n",
       ":   -3.612951421497494\n",
       ":   -3.130239904379765\n",
       ":   -4.647528387262026\n",
       ":   -3.16481687014437\n",
       ":   -3.682105353026568\n",
       ":   -4.199393835908829\n",
       ":   -4.716682318791110\n",
       ":   -4.2339708016733711\n",
       ":   -2.7512592845556312\n",
       ":   -3.268547767437913\n",
       ":   -1.7858362503201614\n",
       ":   -0.3031247332024315\n",
       ":   0.17958678391529916\n",
       ":   2.6622983010330317\n",
       ":   4.1450098181507618\n",
       ":   5.627721335268519\n",
       ":   6.1104328523862320\n",
       ":   5.5931443695039721\n",
       ":   5.075855886621722\n",
       ":   4.5585674037394323\n",
       ":   5.0412789208571624\n",
       ":   6.523990437974925\n",
       ":   5.0067019550926326\n",
       ":   4.4894134722103627\n",
       ":   3.9721249893280928\n",
       ":   3.4548365064458329\n",
       ":   2.9375480235635630\n",
       ":   3.4202595406812931\n",
       ":   1.9029710577990232\n",
       ":   1.3856825749167633\n",
       ":   2.8683940920344934\n",
       ":   0.35110560915222535\n",
       ":   -0.16618287373004536\n",
       ":   -0.68347135661231637\n",
       ":   -0.20075983949457638\n",
       ":   0.2819516776231539\n",
       ":   -0.2353368052591140\n",
       ":   -0.75262528814137741\n",
       ":   0.73008622897634942\n",
       ":   -1.7872022539059143\n",
       ":   -0.30449073678817844\n",
       ":   -1.8217792196704545\n",
       ":   -1.3390677025527146\n",
       ":   -1.8563561854349947\n",
       ":   -2.3736446683172548\n",
       ":   -2.8909331511995149\n",
       ":   -2.4082216340817950\n",
       ":   -2.9255101169640551\n",
       ":   -5.4427985998463252\n",
       ":   -5.96008708272857\n",
       "\n"
      ],
      "text/plain": [
       "         1          2          3          4          5          6          7 \n",
       "-2.5783745 -3.0956629 -3.6129514 -3.1302399 -4.6475284 -3.1648169 -3.6821054 \n",
       "         8          9         10         11         12         13         14 \n",
       "-4.1993938 -4.7166823 -4.2339708 -2.7512593 -3.2685478 -1.7858363 -0.3031247 \n",
       "        15         16         17         18         19         20         21 \n",
       " 0.1795868  2.6622983  4.1450098  5.6277213  6.1104329  5.5931444  5.0758559 \n",
       "        22         23         24         25         26         27         28 \n",
       " 4.5585674  5.0412789  6.5239904  5.0067020  4.4894135  3.9721250  3.4548365 \n",
       "        29         30         31         32         33         34         35 \n",
       " 2.9375480  3.4202595  1.9029711  1.3856826  2.8683941  0.3511056 -0.1661829 \n",
       "        36         37         38         39         40         41         42 \n",
       "-0.6834714 -0.2007598  0.2819517 -0.2353368 -0.7526253  0.7300862 -1.7872023 \n",
       "        43         44         45         46         47         48         49 \n",
       "-0.3044907 -1.8217792 -1.3390677 -1.8563562 -2.3736447 -2.8909332 -2.4082216 \n",
       "        50         51         52 \n",
       "-2.9255101 -5.4427986 -5.9600871 "
      ]
     },
     "metadata": {},
     "output_type": "display_data"
    }
   ],
   "source": [
    "LModel$residuals           # residual is a measure of how far away a point is vertically from the regression line\n",
    "                            # or error between predicted value and observed actual value.\n",
    "                    "
   ]
  },
  {
   "cell_type": "code",
   "execution_count": 11,
   "id": "efe84a84",
   "metadata": {},
   "outputs": [
    {
     "name": "stdout",
     "output_type": "stream",
     "text": [
      "\n",
      "  The decimal point is at the |\n",
      "\n",
      "  -6 | 0\n",
      "  -4 | 47622\n",
      "  -2 | 763211998644\n",
      "  -0 | 988838733222\n",
      "   0 | 234749\n",
      "   2 | 79945\n",
      "   4 | 015600166\n",
      "   6 | 15\n",
      "\n"
     ]
    }
   ],
   "source": [
    "stem(LModel$residuals) # extracting numeric data and split then into steam and leaf\n",
    "                        # the LHS shows the most significant digit"
   ]
  },
  {
   "cell_type": "code",
   "execution_count": 12,
   "id": "ef861a89",
   "metadata": {},
   "outputs": [
    {
     "data": {
      "text/html": [
       "<style>\n",
       ".dl-inline {width: auto; margin:0; padding: 0}\n",
       ".dl-inline>dt, .dl-inline>dd {float: none; width: auto; display: inline-block}\n",
       ".dl-inline>dt::after {content: \":\\0020\"; padding-right: .5ex}\n",
       ".dl-inline>dt:not(:first-of-type) {padding-left: .5ex}\n",
       "</style><dl class=dl-inline><dt>1</dt><dd>89.5783744557329</dd><dt>2</dt><dd>92.0956629386151</dd><dt>3</dt><dd>94.6129514214975</dd><dt>4</dt><dd>97.1302399043798</dd><dt>5</dt><dd>99.647528387262</dd><dt>6</dt><dd>102.164816870144</dd><dt>7</dt><dd>104.682105353027</dd><dt>8</dt><dd>107.199393835909</dd><dt>9</dt><dd>109.716682318791</dd><dt>10</dt><dd>112.233970801673</dd><dt>11</dt><dd>114.751259284556</dd><dt>12</dt><dd>117.268547767438</dd><dt>13</dt><dd>119.78583625032</dd><dt>14</dt><dd>122.303124733202</dd><dt>15</dt><dd>124.820413216085</dd><dt>16</dt><dd>127.337701698967</dd><dt>17</dt><dd>129.854990181849</dd><dt>18</dt><dd>132.372278664732</dd><dt>19</dt><dd>134.889567147614</dd><dt>20</dt><dd>137.406855630496</dd><dt>21</dt><dd>139.924144113378</dd><dt>22</dt><dd>142.441432596261</dd><dt>23</dt><dd>144.958721079143</dd><dt>24</dt><dd>147.476009562025</dd><dt>25</dt><dd>149.993298044907</dd><dt>26</dt><dd>152.51058652779</dd><dt>27</dt><dd>155.027875010672</dd><dt>28</dt><dd>157.545163493554</dd><dt>29</dt><dd>160.062451976436</dd><dt>30</dt><dd>162.579740459319</dd><dt>31</dt><dd>165.097028942201</dd><dt>32</dt><dd>167.614317425083</dd><dt>33</dt><dd>170.131605907966</dd><dt>34</dt><dd>172.648894390848</dd><dt>35</dt><dd>175.16618287373</dd><dt>36</dt><dd>177.683471356612</dd><dt>37</dt><dd>180.200759839495</dd><dt>38</dt><dd>182.718048322377</dd><dt>39</dt><dd>185.235336805259</dd><dt>40</dt><dd>187.752625288141</dd><dt>41</dt><dd>190.269913771024</dd><dt>42</dt><dd>192.787202253906</dd><dt>43</dt><dd>195.304490736788</dd><dt>44</dt><dd>197.82177921967</dd><dt>45</dt><dd>200.339067702553</dd><dt>46</dt><dd>202.856356185435</dd><dt>47</dt><dd>205.373644668317</dd><dt>48</dt><dd>207.8909331512</dd><dt>49</dt><dd>210.408221634082</dd><dt>50</dt><dd>212.925510116964</dd><dt>51</dt><dd>215.442798599846</dd><dt>52</dt><dd>217.960087082729</dd></dl>\n"
      ],
      "text/latex": [
       "\\begin{description*}\n",
       "\\item[1] 89.5783744557329\n",
       "\\item[2] 92.0956629386151\n",
       "\\item[3] 94.6129514214975\n",
       "\\item[4] 97.1302399043798\n",
       "\\item[5] 99.647528387262\n",
       "\\item[6] 102.164816870144\n",
       "\\item[7] 104.682105353027\n",
       "\\item[8] 107.199393835909\n",
       "\\item[9] 109.716682318791\n",
       "\\item[10] 112.233970801673\n",
       "\\item[11] 114.751259284556\n",
       "\\item[12] 117.268547767438\n",
       "\\item[13] 119.78583625032\n",
       "\\item[14] 122.303124733202\n",
       "\\item[15] 124.820413216085\n",
       "\\item[16] 127.337701698967\n",
       "\\item[17] 129.854990181849\n",
       "\\item[18] 132.372278664732\n",
       "\\item[19] 134.889567147614\n",
       "\\item[20] 137.406855630496\n",
       "\\item[21] 139.924144113378\n",
       "\\item[22] 142.441432596261\n",
       "\\item[23] 144.958721079143\n",
       "\\item[24] 147.476009562025\n",
       "\\item[25] 149.993298044907\n",
       "\\item[26] 152.51058652779\n",
       "\\item[27] 155.027875010672\n",
       "\\item[28] 157.545163493554\n",
       "\\item[29] 160.062451976436\n",
       "\\item[30] 162.579740459319\n",
       "\\item[31] 165.097028942201\n",
       "\\item[32] 167.614317425083\n",
       "\\item[33] 170.131605907966\n",
       "\\item[34] 172.648894390848\n",
       "\\item[35] 175.16618287373\n",
       "\\item[36] 177.683471356612\n",
       "\\item[37] 180.200759839495\n",
       "\\item[38] 182.718048322377\n",
       "\\item[39] 185.235336805259\n",
       "\\item[40] 187.752625288141\n",
       "\\item[41] 190.269913771024\n",
       "\\item[42] 192.787202253906\n",
       "\\item[43] 195.304490736788\n",
       "\\item[44] 197.82177921967\n",
       "\\item[45] 200.339067702553\n",
       "\\item[46] 202.856356185435\n",
       "\\item[47] 205.373644668317\n",
       "\\item[48] 207.8909331512\n",
       "\\item[49] 210.408221634082\n",
       "\\item[50] 212.925510116964\n",
       "\\item[51] 215.442798599846\n",
       "\\item[52] 217.960087082729\n",
       "\\end{description*}\n"
      ],
      "text/markdown": [
       "1\n",
       ":   89.57837445573292\n",
       ":   92.09566293861513\n",
       ":   94.61295142149754\n",
       ":   97.13023990437985\n",
       ":   99.6475283872626\n",
       ":   102.1648168701447\n",
       ":   104.6821053530278\n",
       ":   107.1993938359099\n",
       ":   109.71668231879110\n",
       ":   112.23397080167311\n",
       ":   114.75125928455612\n",
       ":   117.26854776743813\n",
       ":   119.7858362503214\n",
       ":   122.30312473320215\n",
       ":   124.82041321608516\n",
       ":   127.33770169896717\n",
       ":   129.85499018184918\n",
       ":   132.37227866473219\n",
       ":   134.88956714761420\n",
       ":   137.40685563049621\n",
       ":   139.92414411337822\n",
       ":   142.44143259626123\n",
       ":   144.95872107914324\n",
       ":   147.47600956202525\n",
       ":   149.99329804490726\n",
       ":   152.5105865277927\n",
       ":   155.02787501067228\n",
       ":   157.54516349355429\n",
       ":   160.06245197643630\n",
       ":   162.57974045931931\n",
       ":   165.09702894220132\n",
       ":   167.61431742508333\n",
       ":   170.13160590796634\n",
       ":   172.64889439084835\n",
       ":   175.1661828737336\n",
       ":   177.68347135661237\n",
       ":   180.20075983949538\n",
       ":   182.71804832237739\n",
       ":   185.23533680525940\n",
       ":   187.75262528814141\n",
       ":   190.26991377102442\n",
       ":   192.78720225390643\n",
       ":   195.30449073678844\n",
       ":   197.8217792196745\n",
       ":   200.33906770255346\n",
       ":   202.85635618543547\n",
       ":   205.37364466831748\n",
       ":   207.890933151249\n",
       ":   210.40822163408250\n",
       ":   212.92551011696451\n",
       ":   215.44279859984652\n",
       ":   217.960087082729\n",
       "\n"
      ],
      "text/plain": [
       "        1         2         3         4         5         6         7         8 \n",
       " 89.57837  92.09566  94.61295  97.13024  99.64753 102.16482 104.68211 107.19939 \n",
       "        9        10        11        12        13        14        15        16 \n",
       "109.71668 112.23397 114.75126 117.26855 119.78584 122.30312 124.82041 127.33770 \n",
       "       17        18        19        20        21        22        23        24 \n",
       "129.85499 132.37228 134.88957 137.40686 139.92414 142.44143 144.95872 147.47601 \n",
       "       25        26        27        28        29        30        31        32 \n",
       "149.99330 152.51059 155.02788 157.54516 160.06245 162.57974 165.09703 167.61432 \n",
       "       33        34        35        36        37        38        39        40 \n",
       "170.13161 172.64889 175.16618 177.68347 180.20076 182.71805 185.23534 187.75263 \n",
       "       41        42        43        44        45        46        47        48 \n",
       "190.26991 192.78720 195.30449 197.82178 200.33907 202.85636 205.37364 207.89093 \n",
       "       49        50        51        52 \n",
       "210.40822 212.92551 215.44280 217.96009 "
      ]
     },
     "metadata": {},
     "output_type": "display_data"
    }
   ],
   "source": [
    "LModel$fitted.values  # extracting fitted values from objects returned by modeling functions."
   ]
  },
  {
   "cell_type": "markdown",
   "id": "daf7307b",
   "metadata": {},
   "source": [
    "### Residual Vs Fitted : graph of error btw predicted and observed value vs Fitted value"
   ]
  },
  {
   "cell_type": "code",
   "execution_count": 13,
   "id": "7886f794",
   "metadata": {},
   "outputs": [
    {
     "data": {
      "image/png": "[encoded data removed]",
      "text/plain": [
       "Plot with title \"\""
      ]
     },
     "metadata": {
      "image/png": {
       "height": 420,
       "width": 420
      }
     },
     "output_type": "display_data"
    }
   ],
   "source": [
    "plot(LModel,which = 1)   "
   ]
  },
  {
   "cell_type": "markdown",
   "id": "297992e6",
   "metadata": {},
   "source": [
    "### Normal Q-Q plots\n",
    "#### It is used to check whether data meets homoscedasticity and normality assumption of linear regression model"
   ]
  },
  {
   "cell_type": "code",
   "execution_count": 14,
   "id": "cf1f2e42",
   "metadata": {},
   "outputs": [
    {
     "data": {
      "image/png": "[encoded data removed]",
      "text/plain": [
       "Plot with title \"\""
      ]
     },
     "metadata": {
      "image/png": {
       "height": 420,
       "width": 420
      }
     },
     "output_type": "display_data"
    }
   ],
   "source": [
    "plot(LModel,which = 2) # "
   ]
  },
  {
   "cell_type": "markdown",
   "id": "d0b2a9c4",
   "metadata": {},
   "source": [
    "### Scale-location plot\n",
    "#### It is used to verify that the red line is roughly horizontal across the plot. If it is, then the assumption of homoscedasticity is likely satisfied for a given regression model. That is, the spread of the residuals is roughly equal at all fitted values."
   ]
  },
  {
   "cell_type": "code",
   "execution_count": 15,
   "id": "b7961239",
   "metadata": {},
   "outputs": [
    {
     "data": {
      "image/png": "[encoded data removed]",
      "text/plain": [
       "Plot with title \"\""
      ]
     },
     "metadata": {
      "image/png": {
       "height": 420,
       "width": 420
      }
     },
     "output_type": "display_data"
    }
   ],
   "source": [
    "plot(LModel,which = 3)"
   ]
  },
  {
   "cell_type": "markdown",
   "id": "212e553b",
   "metadata": {},
   "source": [
    "### Cook's distance plot\n",
    "#### cooks distance plot is used to identify influnential data points"
   ]
  },
  {
   "cell_type": "code",
   "execution_count": 16,
   "id": "f3a3ce9f",
   "metadata": {},
   "outputs": [
    {
     "data": {
      "image/png": "[encoded data removed]",
      "text/plain": [
       "Plot with title \"\""
      ]
     },
     "metadata": {
      "image/png": {
       "height": 420,
       "width": 420
      }
     },
     "output_type": "display_data"
    }
   ],
   "source": [
    "plot(LModel,which = 4)     "
   ]
  },
  {
   "cell_type": "markdown",
   "id": "b0190002",
   "metadata": {},
   "source": [
    "### Residuals vs Leverage plot\n",
    "#### It helps to find outliers linear regression model"
   ]
  },
  {
   "cell_type": "code",
   "execution_count": 17,
   "id": "7ad7a1a6",
   "metadata": {},
   "outputs": [
    {
     "data": {
      "image/png": "[encoded data removed]",
      "text/plain": [
       "Plot with title \"\""
      ]
     },
     "metadata": {
      "image/png": {
       "height": 420,
       "width": 420
      }
     },
     "output_type": "display_data"
    }
   ],
   "source": [
    "plot(LModel,which = 5)    "
   ]
  },
  {
   "cell_type": "markdown",
   "id": "d586153c",
   "metadata": {},
   "source": [
    "### Cook's distance vs leverage plot\n",
    "#### This plot is used to find the data points that can have large effect on outcome and accuracy of the regression"
   ]
  },
  {
   "cell_type": "code",
   "execution_count": 18,
   "id": "2e15966f",
   "metadata": {},
   "outputs": [
    {
     "data": {
      "image/png": "[encoded data removed]",
      "text/plain": [
       "Plot with title \"\""
      ]
     },
     "metadata": {
      "image/png": {
       "height": 420,
       "width": 420
      }
     },
     "output_type": "display_data"
    }
   ],
   "source": [
    "plot(LModel,which = 6)    "
   ]
  },
  {
   "cell_type": "code",
   "execution_count": null,
   "id": "e288cc03",
   "metadata": {},
   "outputs": [],
   "source": []
  }
 ],
 "metadata": {
  "kernelspec": {
   "display_name": "R",
   "language": "R",
   "name": "ir"
  },
  "language_info": {
   "codemirror_mode": "r",
   "file_extension": ".r",
   "mimetype": "text/x-r-source",
   "name": "R",
   "pygments_lexer": "r",
   "version": "4.1.1"
  }
 },
 "nbformat": 4,
 "nbformat_minor": 5
}
